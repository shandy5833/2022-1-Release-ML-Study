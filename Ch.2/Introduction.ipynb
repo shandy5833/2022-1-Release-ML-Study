{
 "cells": [
  {
   "cell_type": "markdown",
   "id": "fee08dd0",
   "metadata": {},
   "source": [
    "# 2. 지도 학습\n",
    "- 입력과 출력 샘플 데이터 \n",
    "- 주어진 입력으로부터 출력을 예측 \n",
    "\n",
    "## 2.1 분류와 회귀\n",
    "- __분류__ : 클래스 레이블 중 하나를 예측 \n",
    "  - 두 개의 클래스로 분류하는 __이진 분류__  \n",
    "    질문의 답이 예/아니오만 나올 수 있도록 하는 것\n",
    "    ex. 이메일에서 스팸을 분류  \n",
    "    이진 분류에서 한 클래스를 __양성__ 클래스, 다른 하나를 __음성__ 클래스라고도 함 \n",
    "  - 셋 이상의 클래스로 분류하는 __다중 분류__ \n",
    " \n",
    "  \n",
    "- __회귀__ : 부동소수점수를 예측\n",
    "  - 출력 값에 연속성이 있다면 회귀 문제  \n",
    "    ex. 연소득을 예측하는 경우 40,000,000원을 예측하는 것과 40,000,001원을 예측하는 것은 크게 다르지 않음\n",
    "    \n",
    "    \n",
    "## 2.2 일반화, 과대적합, 과소적합\n",
    "- 모델이 처음 보는 데이터에 대해 정확하게 예측할 수 있으면 이를 훈련 세트에서 테스트 세트로 __일반화__되었다고 함  \n",
    "- 아주 복잡한 모델을 만든다면 훈련 세트에만 정확한 모델이 될 수 있음  \n",
    "- 가진 정보를 모두 사용해서 너무 복잡한 모델을 만드는 것을 __과대적합__이라 하고,  \n",
    "  너무 간단한 모델이 선택되는 것을 __과소적합__이라 함  \n",
    "  \n",
    "### 2.2.1 모델 복잡도와 데이터셋 크기의 관계\n",
    "- 다양한 데이터 포인트가 많을수록 과대적합 없이 더 복잡한 모델을 만들 수 있음  \n",
    "- 실제 환경에서는 데이터를 얼마나 많이 모을지 정해야 함"
   ]
  },
  {
   "cell_type": "code",
   "execution_count": 1,
   "id": "d6e45ddb",
   "metadata": {},
   "outputs": [],
   "source": [
    "import numpy as np\n",
    "import matplotlib.pyplot as plt\n",
    "import pandas as pd\n",
    "import mglearn\n",
    "import warnings\n",
    "warnings.filterwarnings(action='ignore')"
   ]
  },
  {
   "cell_type": "markdown",
   "id": "15c32b41",
   "metadata": {},
   "source": [
    "## 2.3 지도 학습 알고리즘\n",
    "\n",
    "### 2.3.1 예제에 사용할 데이터셋"
   ]
  },
  {
   "cell_type": "markdown",
   "id": "0c7d0249",
   "metadata": {},
   "source": [
    "__forge 데이터셋__\n",
    "- 인위적으로 만든 이진 분류 데이터셋\n",
    "- 26개의 데이터 포인트와 2개의 특성"
   ]
  },
  {
   "cell_type": "code",
   "execution_count": 2,
   "id": "1036c7c2",
   "metadata": {
    "scrolled": false
   },
   "outputs": [
    {
     "name": "stdout",
     "output_type": "stream",
     "text": [
      "X.shape: (26, 2)\n"
     ]
    },
    {
     "data": {
      "image/png": "[encoded data removed]",
      "text/plain": [
       "<Figure size 432x288 with 1 Axes>"
      ]
     },
     "metadata": {
      "needs_background": "light"
     },
     "output_type": "display_data"
    }
   ],
   "source": [
    "# 데이터셋을 만듭니다\n",
    "X, y = mglearn.datasets.make_forge()\n",
    "# 산점도를 그립니다\n",
    "mglearn.discrete_scatter(X[:, 0], X[:, 1], y)\n",
    "plt.legend([\"클래스 0\", \"클래스 1\"], loc=4)\n",
    "plt.xlabel(\"첫 번째 특성\")\n",
    "plt.ylabel(\"두 번째 특성\")\n",
    "print(\"X.shape:\", X.shape)"
   ]
  },
  {
   "cell_type": "markdown",
   "id": "4bae1856",
   "metadata": {},
   "source": [
    "__wave__ 데이터셋  \n",
    "- 인위적으로 만든 데이터셋  \n",
    "- 회귀 알고리즘에 사용\n",
    "- 입력 특성 하나와 모델링할 타깃 변수"
   ]
  },
  {
   "cell_type": "code",
   "execution_count": 3,
   "id": "aeee346e",
   "metadata": {},
   "outputs": [
    {
     "data": {
      "text/plain": [
       "Text(0, 0.5, '타깃')"
      ]
     },
     "execution_count": 3,
     "metadata": {},
     "output_type": "execute_result"
    },
    {
     "data": {
      "image/png": "[encoded data removed]",
      "text/plain": [
       "<Figure size 432x288 with 1 Axes>"
      ]
     },
     "metadata": {
      "needs_background": "light"
     },
     "output_type": "display_data"
    }
   ],
   "source": [
    "X, y = mglearn.datasets.make_wave(n_samples=40)\n",
    "plt.plot(X, y, 'o')\n",
    "plt.ylim(-3, 3)\n",
    "plt.xlabel(\"특성\")\n",
    "plt.ylabel(\"타깃\")"
   ]
  },
  {
   "cell_type": "markdown",
   "id": "6f207314",
   "metadata": {},
   "source": [
    "__위스콘신 유방암__ 데이터셋  \n",
    "- 각 종양은 양성과 악성으로 레이블되어 있음  \n",
    "- 조직 데이터를 기반으로 종양이 악성인지 예측"
   ]
  },
  {
   "cell_type": "code",
   "execution_count": 4,
   "id": "79b0a82b",
   "metadata": {},
   "outputs": [
    {
     "name": "stdout",
     "output_type": "stream",
     "text": [
      "cancer.keys():\n",
      " dict_keys(['data', 'target', 'frame', 'target_names', 'DESCR', 'feature_names', 'filename'])\n",
      "\n",
      "유방암 데이터의 형태: (569, 30)\n",
      "\n",
      "클래스별 샘플 개수:\n",
      " {'malignant': 212, 'benign': 357}\n",
      "\n",
      "특성 이름:\n",
      " ['mean radius' 'mean texture' 'mean perimeter' 'mean area'\n",
      " 'mean smoothness' 'mean compactness' 'mean concavity'\n",
      " 'mean concave points' 'mean symmetry' 'mean fractal dimension'\n",
      " 'radius error' 'texture error' 'perimeter error' 'area error'\n",
      " 'smoothness error' 'compactness error' 'concavity error'\n",
      " 'concave points error' 'symmetry error' 'fractal dimension error'\n",
      " 'worst radius' 'worst texture' 'worst perimeter' 'worst area'\n",
      " 'worst smoothness' 'worst compactness' 'worst concavity'\n",
      " 'worst concave points' 'worst symmetry' 'worst fractal dimension']\n"
     ]
    }
   ],
   "source": [
    "from sklearn.datasets import load_breast_cancer\n",
    "cancer = load_breast_cancer()\n",
    "print(\"cancer.keys():\\n\", cancer.keys())\n",
    "print(\"\\n유방암 데이터의 형태:\", cancer.data.shape)\n",
    "print(\"\\n클래스별 샘플 개수:\\n\",{n: v for n, v in zip(cancer.target_names, np.bincount(cancer.target))})\n",
    "print(\"\\n특성 이름:\\n\", cancer.feature_names)"
   ]
  },
  {
   "cell_type": "markdown",
   "id": "00a5d9f3",
   "metadata": {},
   "source": [
    "__보스턴 주택가격__ 데이터셋\n",
    "- 1970년대 보스턴 주변의 주택 평균 가격을 예측"
   ]
  },
  {
   "cell_type": "code",
   "execution_count": 5,
   "id": "1cc0c385",
   "metadata": {},
   "outputs": [
    {
     "name": "stdout",
     "output_type": "stream",
     "text": [
      "데이터의 형태: (506, 13)\n"
     ]
    }
   ],
   "source": [
    "from sklearn.datasets import load_boston\n",
    "boston = load_boston()\n",
    "print(\"데이터의 형태:\", boston.data.shape)"
   ]
  },
  {
   "cell_type": "markdown",
   "id": "d8424f15",
   "metadata": {},
   "source": [
    "- 13개의 입력 특성뿐 아니라 특성끼리 곱한 것 또한 특성으로 간주  \n",
    "  ex. 범죄율과 고속도로 접근성의 개별 특성은 물론, 범죄율과 고속도로 접근성의 곱도 특성으로 생각  \n",
    "- 이처럼 특성을 유도해내는 것을 __특성 공학__이라고 함"
   ]
  },
  {
   "cell_type": "code",
   "execution_count": 6,
   "id": "33293658",
   "metadata": {},
   "outputs": [
    {
     "name": "stdout",
     "output_type": "stream",
     "text": [
      "X.shape: (506, 104)\n"
     ]
    }
   ],
   "source": [
    "X, y = mglearn.datasets.load_extended_boston()\n",
    "print(\"X.shape:\", X.shape)"
   ]
  }
 ],
 "metadata": {
  "jupytext": {
   "formats": "ipynb,py:light"
  },
  "kernelspec": {
   "display_name": "Python 3 (ipykernel)",
   "language": "python",
   "name": "python3"
  },
  "language_info": {
   "codemirror_mode": {
    "name": "ipython",
    "version": 3
   },
   "file_extension": ".py",
   "mimetype": "text/x-python",
   "name": "python",
   "nbconvert_exporter": "python",
   "pygments_lexer": "ipython3",
   "version": "3.9.7"
  }
 },
 "nbformat": 4,
 "nbformat_minor": 5
}
